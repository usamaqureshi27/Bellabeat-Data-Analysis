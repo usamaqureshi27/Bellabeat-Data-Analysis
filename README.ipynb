{
  "nbformat": 4,
  "nbformat_minor": 0,
  "metadata": {
    "colab": {
      "provenance": [],
      "authorship_tag": "ABX9TyPnmtPNTDfSa7jJwdDnI5Dr",
      "include_colab_link": true
    },
    "kernelspec": {
      "name": "python3",
      "display_name": "Python 3"
    },
    "language_info": {
      "name": "python"
    }
  },
  "cells": [
    {
      "cell_type": "markdown",
      "metadata": {
        "id": "view-in-github",
        "colab_type": "text"
      },
      "source": [
        "<a href=\"https://colab.research.google.com/github/usamaqureshi27/Bellabeat-Data-Analysis/blob/main/README.ipynb\" target=\"_parent\"><img src=\"https://colab.research.google.com/assets/colab-badge.svg\" alt=\"Open In Colab\"/></a>"
      ]
    },
    {
      "cell_type": "markdown",
      "source": [
        "# Data insights for Bellbeat app\n",
        "## Goal of the project\n",
        "\n",
        "The purpose of this analysis project is searching for user patterns of usage of their smart devices in order to gain insights that would later better orientate marketing decisions and unlock new growth opportunities for Bellabeat. So, main business objectives are:\n",
        "\n",
        "- How do our users use smart devices?\n",
        "- Identify trends in how consumers use non Bellabeat smart devices to apply insights into Bellabeat’s marketing strategy.\n",
        "\n",
        "The analysis of fitbit tracking data and visulation of results are done using **Python** libraries.\n",
        "\n",
        "## Data Processing\n",
        "Data will get processed and cleaned with the help of python libraries:\n",
        "\n",
        "- Correctly format columns name and types\n",
        "- Checking irrelevant columns and subsetting dataset\n",
        "- Check for duplicate rows and missing values\n",
        "\n",
        "## Analysis Approach\n",
        "Category analysis will done by creating two categorization of the users, by level of physical activity and device usage.\n",
        "\n",
        "physical activity would follow these arguments:\n",
        "\n",
        "- Sedentary: less than 6000 daily steps on average\n",
        "- Active: between 6000 and 12000 daily steps on average\n",
        "- Very active: more than 12000 daily steps on average\n",
        "\n",
        "Device usage will follow these arguments:\n",
        "\n",
        "- Low use: less than 8 hours of use per day.\n",
        "- Normal use: between 8 and 16 hours of use per day.\n",
        "- High use: more than 16 hours of use per day.\n",
        "\n",
        "## Visualization\n",
        "\n",
        "### Correlation between total steps and calories\n",
        "\n",
        "![Steps vs Calories](/content/steps and calories.png)\n",
        "\n",
        "We can see in this scatterplot a somewhat positive correlation, the more steps done, the more calories burnt. Also we divided the dots by colors, using the activity_level category, so we can see which group is representing the data shown\n",
        "\n",
        "### Average number of steps per day\n",
        "\n",
        "![Steps Average](/content/activity level in mintues.png)\n",
        "\n",
        "The results show that Monday, Tuesday and Saturday are the days where the users were more physically active and above the average numbert of steps overall. Wednesday, Thursday, and Friday are below the average but the three fell into the same area. Sunday is the least active of all the weekdays.\n",
        "\n",
        "With this information we can interpret that users tend to be more physically active during the firsts days of the week and during saturdays, giving us a hint of the activities they may do.\n",
        "\n",
        "### Percentage of activity in minutes\n",
        "\n",
        "![activity percentage](/content/activity level in mintues.png)\n",
        "\n",
        "This pie chart shows that the users are in a sedentary state of activity most of the time, a sixth of the time doing light activity and only 2% of the time being active doing proper excercise.\n",
        "\n",
        "\n",
        "### Correlation Between activity level minutes and calories\n",
        "\n",
        "![Avtivty level minutes](/content/avtivity minutes and calories.png)\n",
        "\n",
        "1. Figue [0,0] shows there is no specific relation between burned calories with time in sedentary.\n",
        "2. Figue [0,1] shows positive correlation, for very active person, more time spend on light activity the more calories are burned.\n",
        "3. Figue [1,0] shows there is no specific relation between burned calories with fairly activity time.\n",
        "4. Figue [1,1] shows positive correlation, for very active person, more time spend on large scale activity the more calories are burned.\n",
        "\n",
        "## Useful Insights\n",
        "\n",
        "After analyzing FitBit Fitness Tracker Data, following are the insights that would help influence Bellabeat marketing strategy\n",
        "\n",
        "### A multipurpose device\n",
        "Bellabeat can let know users, that their products are not only meant for sports, or excersice related activities As the data show, many users spend more time wearing the tracking device on weekends than on weekdays, this could mean that they relate the product just to sports or for only the usual walking to the park on sundays Bellabeat can show that their products are meant to acompany them wherever they go for any daily activities, such as work And help them track information to improve overall fitness and health This will encourage women from diverse demographic features and backgrounds to use Bellabeat's product meant for all women who care about overall health\n",
        "\n",
        "### Rewards and reminds\n",
        "Bellabeat can integrate functions within the bellabeat app or other products, such as rewards or incentives, and reminds to encourage their users to hit certain marks These marks could be achieving the minimum amount of 7 500 steps per day, certain calorie burning for people who want to lose weight, or the 8 hour sleep pattern Certain rewards could be showing a leaderboard of top users who have reached and maintained the minimum steps a day for longer, virtual medals or prizes, such as discounts or offers For the reminds part, Bellabeat could send notifications to their users when they are lagging behind in such goals, and also it could offer recomendations to their users to help them with their sleep, or achieving their goals\n",
        "\n",
        "## Datasets Used\n",
        "The datasets used:\n",
        "\n",
        "- Comes with 904 rows with 903 being pure data and the other one row being the column headers.\n",
        "- The FitBit Fitness Tracker Data is stored in Kaggle and was made available through Mobius and generated by respondents to a distributed survey via Amazon Mechanical Turk between 03.12.2016 05.12.2016. Accesible through Kaggle [here](https://www.kaggle.com/datasets/arashnic/fitbit)\n",
        "- It contains the data of 33 users.\n",
        "\n",
        "## Authors\n",
        "\n",
        "- Usama Qureshi - [Github Profile](https://github.com/usamaqureshi27)\n"
      ],
      "metadata": {
        "id": "ePTQ710FT8Cw"
      }
    }
  ]
}