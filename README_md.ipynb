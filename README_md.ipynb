{
  "nbformat": 4,
  "nbformat_minor": 0,
  "metadata": {
    "colab": {
      "provenance": [],
      "authorship_tag": "ABX9TyPs8IjPH64MNmU1VBpJh47g",
      "include_colab_link": true
    },
    "kernelspec": {
      "name": "python3",
      "display_name": "Python 3"
    },
    "language_info": {
      "name": "python"
    }
  },
  "cells": [
    {
      "cell_type": "markdown",
      "metadata": {
        "id": "view-in-github",
        "colab_type": "text"
      },
      "source": [
        "<a href=\"https://colab.research.google.com/github/usamaqureshi27/Bellabeat-Data-Analysis/blob/main/README_md.ipynb\" target=\"_parent\"><img src=\"https://colab.research.google.com/assets/colab-badge.svg\" alt=\"Open In Colab\"/></a>"
      ]
    },
    {
      "cell_type": "markdown",
      "source": [
        "# Data insights for Bellbeat app\n",
        "## Goal of the project\n",
        "\n",
        "The purpose of this analysis project is searching for user patterns of usage of their smart devices in order to gain insights that would later better orientate marketing decisions and unlock new growth opportunities for Bellabeat. So, main business objectives are:\n",
        "\n",
        "- How do our users use smart devices?\n",
        "- Identify trends in how consumers use non Bellabeat smart devices to apply insights into Bellabeat’s marketing strategy.\n",
        "\n",
        "The analysis of fitbit tracking data and visulation of results are done using **Python** libraries.\n",
        "\n",
        "## Data Processing\n",
        "Data will get processed and cleaned with the help of python libraries:\n",
        "\n",
        "- Correctly format columns name and types\n",
        "- Checking irrelevant columns and subsetting dataset\n",
        "- Check for duplicate rows and missing values\n",
        "\n",
        "## Analysis Approach\n",
        "Category analysis will done by creating two categorization of the users, by level of physical activity and device usage.\n",
        "\n",
        "physical activity would follow these arguments:\n",
        "\n",
        "- Sedentary: less than 6000 daily steps on average\n",
        "- Active: between 6000 and 12000 daily steps on average\n",
        "- Very active: more than 12000 daily steps on average\n",
        "\n",
        "Device usage will follow these arguments:\n",
        "\n",
        "- Low use: less than 8 hours of use per day.\n",
        "- Normal use: between 8 and 16 hours of use per day.\n",
        "- High use: more than 16 hours of use per day.\n",
        "\n",
        "## Visualization\n",
        "\n",
        "### Correlation between total steps and calories\n",
        "\n",
        "![Steps vs Calories](/content/steps and calories.png)\n",
        "\n",
        "We can see in this scatterplot a somewhat positive correlation, the more steps done, the more calories burnt. Also we divided the dots by colors, using the activity_level category, so we can see which group is representing the data shown\n",
        "\n",
        "### Average number of steps per day\n",
        "\n",
        "\n",
        "\n"
      ],
      "metadata": {
        "id": "ePTQ710FT8Cw"
      }
    }
  ]
}